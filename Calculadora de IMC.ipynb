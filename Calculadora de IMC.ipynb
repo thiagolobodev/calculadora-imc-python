{
 "cells": [
  {
   "cell_type": "markdown",
   "id": "7202102c",
   "metadata": {},
   "source": [
    "### Calculadora de IMC"
   ]
  },
  {
   "cell_type": "code",
   "execution_count": 4,
   "id": "666bbd40",
   "metadata": {},
   "outputs": [
    {
     "name": "stdout",
     "output_type": "stream",
     "text": [
      "Insira o peso em (KG): 47\n",
      "Insira a altura em (m):1.56\n",
      "Seu IMC é = 19.31\n",
      "Seu estado é de: Peso normal\n",
      "O peso ideal para homens é de 55.41 Kg\n",
      "O peso ideal para mulheres é de 52.18 Kg\n"
     ]
    }
   ],
   "source": [
    "peso = float(input('Insira o peso em (KG): '))\n",
    "altura = float(input('Insira a altura em (m):'))\n",
    "\n",
    "imc = peso / (altura * altura)\n",
    "print(f'Seu IMC é = {imc:.2f}')\n",
    "\n",
    "if imc < 17:\n",
    "    estado = 'Muito abaixo do peso'\n",
    "elif imc < 18.5:\n",
    "    estado = 'Abaixo do peso'\n",
    "elif imc < 24.9:\n",
    "    estado = 'Peso normal'\n",
    "elif imc < 29.9:\n",
    "    estado = 'Pré-Obesidade'\n",
    "elif imc < 34.9:\n",
    "    estado = 'Obesidade grau I'\n",
    "elif imc < 39.9:\n",
    "    estado = 'Obsidade grau II'\n",
    "else:\n",
    "    estado = 'Obsidade grau III'\n",
    "    \n",
    "print(f'Seu estado é de: {estado}')\n",
    "\n",
    "\n",
    "peso_ideal_h = 72.7 * altura - 58\n",
    "peso_ideal_m = 62.1 * altura - 44.7\n",
    "\n",
    "\n",
    "print(f'O peso ideal para homens é de {peso_ideal_h:.2f} Kg')\n",
    "print(f'O peso ideal para mulheres é de {peso_ideal_m:.2f} Kg')"
   ]
  }
 ],
 "metadata": {
  "kernelspec": {
   "display_name": "Python 3 (ipykernel)",
   "language": "python",
   "name": "python3"
  },
  "language_info": {
   "codemirror_mode": {
    "name": "ipython",
    "version": 3
   },
   "file_extension": ".py",
   "mimetype": "text/x-python",
   "name": "python",
   "nbconvert_exporter": "python",
   "pygments_lexer": "ipython3",
   "version": "3.10.9"
  }
 },
 "nbformat": 4,
 "nbformat_minor": 5
}
